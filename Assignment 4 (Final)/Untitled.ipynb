{
 "cells": [
  {
   "cell_type": "code",
   "execution_count": 2,
   "metadata": {
    "collapsed": true
   },
   "outputs": [],
   "source": [
    "import asyncio as aio\n",
    "import re\n",
    "import json\n",
    "\n",
    "import telepot\n",
    "from telepot.aio.loop import MessageLoop\n",
    "from telepot.aio.delegate import pave_event_space, per_chat_id, \\\n",
    "    create_open, include_callback_query_chat_id\n",
    "    \n",
    "ADDING, FLAGGING = 0, 1\n",
    "PENDING, BOUGHT = 0, 1\n",
    "users = {}\n"
   ]
  },
  {
   "cell_type": "code",
   "execution_count": 3,
   "metadata": {
    "collapsed": true
   },
   "outputs": [],
   "source": [
    "#Base Dades\n",
    "def user_info(user_id):\n",
    "    try: return users[user_id]\n",
    "    except:\n",
    "        users[user_id] = {\n",
    "            'id': user_id, \n",
    "            'status': ADDING,\n",
    "            'messages': [],\n",
    "            'products': {}\n",
    "        }\n",
    "        \n",
    "        return users[user_id]"
   ]
  },
  {
   "cell_type": "code",
   "execution_count": 4,
   "metadata": {
    "collapsed": true
   },
   "outputs": [],
   "source": [
    "def add_product(user_id, prod_id, qty):\n",
    "    try:\n",
    "        user_info(user_id)['products'][prod_id]['qty'] += qty\n",
    "    except:\n",
    "        user_info(user_id)['products'][prod_id] = {'status': PENDING, 'qty': qty}\n",
    "        \n",
    "def clear_info(user_id):\n",
    "    del users[user_id]"
   ]
  },
  {
   "cell_type": "code",
   "execution_count": 5,
   "metadata": {
    "collapsed": true
   },
   "outputs": [],
   "source": [
    "class ShoppingBot(object):    \n",
    "    instance = None\n",
    "    \n",
    "    def __init__(self, verbose=False):\n",
    "        assert ShoppingBot.instance is None\n",
    "        ShoppingBot.instance = self\n",
    "        \n",
    "        self.verbose = verbose\n",
    "        self.bot = None\n",
    "        self.loop = aio.get_event_loop()\n",
    "        self.msg_loop = None\n",
    "        self.callbacks = {}\n",
    "        \n",
    "    def start(self, token):\n",
    "        self.bot = telepot.aio.DelegatorBot(token, [\n",
    "            include_callback_query_chat_id(\n",
    "                pave_event_space())(\n",
    "                per_chat_id(), create_open, ShoppingUser, timeout=10),\n",
    "            ])\n",
    "        \n",
    "        self.msg_loop = MessageLoop(self.bot)\n",
    "        self.loop.create_task(self.msg_loop.run_forever())\n",
    "        self.loop.run_forever()\n",
    "        \n",
    "    def stop(self):\n",
    "        ShoppingBot.instance = None\n",
    "        if self.msg_loop:\n",
    "            self.msg_loop.cancel()\n",
    "            self.msg_loop = None\n",
    "    \n",
    "    @classmethod\n",
    "    def is_verbose(cls):\n",
    "        return cls.instance.verbose\n",
    "    \n",
    "    @classmethod\n",
    "    def add_callback(cls, event, cb):\n",
    "        assert event in ('cmd', 'add-product', 'flag-product', 'end')\n",
    "        \n",
    "        cls.instance.callbacks[event] = cls.instance.callbacks.get(event, [])\n",
    "        cls.instance.callbacks[event].append(cb)\n",
    "        \n",
    "    @classmethod\n",
    "    async def trigger(cls, event, user, *args, **kwargs):\n",
    "        assert event in ('cmd', 'add-product', 'flag-product', 'end')\n",
    "        \n",
    "        result = True\n",
    "        for cb in cls.instance.callbacks.get(event, []):\n",
    "            cur = await cb(cls.instance.bot, user, *args, **kwargs)\n",
    "            result = result & (cur is None or cur)\n",
    "            if result is False:\n",
    "                return False\n",
    "            \n",
    "        return result\n",
    "        \n",
    "    def __enter__(self):\n",
    "        return self\n",
    "    \n",
    "    def __exit__(self, type, value, tb):\n",
    "        self.stop()"
   ]
  },
  {
   "cell_type": "code",
   "execution_count": 6,
   "metadata": {
    "collapsed": true
   },
   "outputs": [],
   "source": [
    "def has_unbought_products(user):\n",
    "    return any(p['status'] == PENDING for _,p in user['products'].items())\n",
    "\n",
    "def get_list(user):\n",
    "    if has_unbought_products(user):\n",
    "        return '\\n'.join(\n",
    "            map(\n",
    "                lambda p: p[0] + ': ' + str(p[1]['qty']), \n",
    "                filter(\n",
    "                    lambda p: p[1]['status'] == PENDING, \n",
    "                    user['products'].items()\n",
    "                )\n",
    "            )\n",
    "        )\n",
    "    \n",
    "    return 'No hi ha productes'"
   ]
  },
  {
   "cell_type": "code",
   "execution_count": 7,
   "metadata": {
    "collapsed": true
   },
   "outputs": [],
   "source": [
    "class ShoppingUser(telepot.aio.helper.ChatHandler):    \n",
    "    def __init__(self, *args, **kwargs):\n",
    "        super(ShoppingUser, self).__init__(*args, **kwargs)\n",
    "        \n",
    "        if ShoppingBot.is_verbose():\n",
    "            print('Created {}'.format(self.id))\n",
    "    \n",
    "    def is_adding(self):\n",
    "        return user_info(self.id)['status'] == ADDING\n",
    "    \n",
    "    async def on_chat_message(self, msg):\n",
    "        content_type, chat_type, chat_id = telepot.glance(msg)\n",
    "        if 'text' in msg:\n",
    "            msg = msg['text']\n",
    "            user = user_info(self.id)\n",
    "                \n",
    "            if msg == '/done':\n",
    "                user['status'] = FLAGGING\n",
    "            \n",
    "            if msg == '/debug':\n",
    "                await self.sender.sendMessage(json.dumps(user))\n",
    "                \n",
    "            elif msg == '/start':\n",
    "                clear_info(self.id)\n",
    "                \n",
    "            elif msg == '/done' or msg == '/list':\n",
    "                ans = get_list(user)\n",
    "                await self.sender.sendMessage(ans)\n",
    "            elif msg[0] == '/':\n",
    "                # Special case we don't handle, avoid treating it as a product\n",
    "                pass\n",
    "            elif user['status'] == ADDING:\n",
    "                match = re.findall('^([\\w\\s]+)\\s+([0-9]+)$', msg)\n",
    "                if len(match) == 1 and len(match[0]) == 2: \n",
    "                    item, qty = match[0]\n",
    "                else:\n",
    "                    match = re.findall('^([0-9]+)\\s+([\\w\\s]+)$', msg)\n",
    "                    if len(match) == 1 and len(match[0]) == 2: \n",
    "                        qty, item = match[0]\n",
    "                    else:\n",
    "                        item, qty = msg, 1\n",
    "\n",
    "                if await ShoppingBot.trigger('add-product', self, item, int(qty)):\n",
    "                    add_product(self.id, item, int(qty))\n",
    "                else:\n",
    "                    await self.sender.sendMessage('Aquest producte no existeix')\n",
    "                    \n",
    "                \n",
    "            elif user['status'] == FLAGGING:\n",
    "                try:\n",
    "                    assert user['products'][msg]['status'] == PENDING\n",
    "                    \n",
    "                    if await ShoppingBot.trigger('flag-product', self, msg):\n",
    "                        user['products'][msg]['status'] = BOUGHT\n",
    "                        ans = get_list(user)\n",
    "\n",
    "                        if not has_unbought_products(user):\n",
    "                            await ShoppingBot.trigger('end', self)\n",
    "                    \n",
    "                    await self.sender.sendMessage(ans)\n",
    "                except KeyError:\n",
    "                    await self.sender.sendMessage('No tens aquest producte a la llista')\n",
    "                except:\n",
    "                    await self.sender.sendMessage('Ja està comprat')\n",
    "                \n",
    "            user['messages'].append(msg)\n",
    "            \n",
    "            if msg[0] == '/':\n",
    "                await ShoppingBot.trigger('cmd', self, msg)\n",
    "                \n",
    "            if ShoppingBot.is_verbose():\n",
    "                print('From {}: {}'.format(self.id, msg))\n",
    "\n",
    "    async def on_close(self, ex):\n",
    "        if ShoppingBot.is_verbose():\n",
    "            print('Closed {}'.format(self.id))"
   ]
  },
  {
   "cell_type": "code",
   "execution_count": 10,
   "metadata": {},
   "outputs": [
    {
     "ename": "AssertionError",
     "evalue": "",
     "output_type": "error",
     "traceback": [
      "\u001b[1;31m---------------------------------------------------------------------------\u001b[0m",
      "\u001b[1;31mAssertionError\u001b[0m                            Traceback (most recent call last)",
      "\u001b[1;32m<ipython-input-10-97cd9a65674f>\u001b[0m in \u001b[0;36m<module>\u001b[1;34m()\u001b[0m\n\u001b[0;32m      1\u001b[0m \u001b[1;32mif\u001b[0m \u001b[0m__name__\u001b[0m \u001b[1;33m==\u001b[0m \u001b[1;34m'__main__'\u001b[0m\u001b[1;33m:\u001b[0m\u001b[1;33m\u001b[0m\u001b[0m\n\u001b[1;32m----> 2\u001b[1;33m     \u001b[0mbot\u001b[0m \u001b[1;33m=\u001b[0m \u001b[0mShoppingBot\u001b[0m\u001b[1;33m(\u001b[0m\u001b[1;33m)\u001b[0m\u001b[1;33m\u001b[0m\u001b[0m\n\u001b[0m\u001b[0;32m      3\u001b[0m     \u001b[0mbot\u001b[0m\u001b[1;33m.\u001b[0m\u001b[0mstart\u001b[0m\u001b[1;33m(\u001b[0m\u001b[0mopen\u001b[0m\u001b[1;33m(\u001b[0m\u001b[1;34m'TOKEN'\u001b[0m\u001b[1;33m)\u001b[0m\u001b[1;33m.\u001b[0m\u001b[0mread\u001b[0m\u001b[1;33m(\u001b[0m\u001b[1;33m)\u001b[0m\u001b[1;33m.\u001b[0m\u001b[0mstrip\u001b[0m\u001b[1;33m(\u001b[0m\u001b[1;33m)\u001b[0m\u001b[1;33m)\u001b[0m\u001b[1;33m\u001b[0m\u001b[0m\n",
      "\u001b[1;32m<ipython-input-5-260cfcd83284>\u001b[0m in \u001b[0;36m__init__\u001b[1;34m(self, verbose)\u001b[0m\n\u001b[0;32m      3\u001b[0m \u001b[1;33m\u001b[0m\u001b[0m\n\u001b[0;32m      4\u001b[0m     \u001b[1;32mdef\u001b[0m \u001b[0m__init__\u001b[0m\u001b[1;33m(\u001b[0m\u001b[0mself\u001b[0m\u001b[1;33m,\u001b[0m \u001b[0mverbose\u001b[0m\u001b[1;33m=\u001b[0m\u001b[1;32mFalse\u001b[0m\u001b[1;33m)\u001b[0m\u001b[1;33m:\u001b[0m\u001b[1;33m\u001b[0m\u001b[0m\n\u001b[1;32m----> 5\u001b[1;33m         \u001b[1;32massert\u001b[0m \u001b[0mShoppingBot\u001b[0m\u001b[1;33m.\u001b[0m\u001b[0minstance\u001b[0m \u001b[1;32mis\u001b[0m \u001b[1;32mNone\u001b[0m\u001b[1;33m\u001b[0m\u001b[0m\n\u001b[0m\u001b[0;32m      6\u001b[0m         \u001b[0mShoppingBot\u001b[0m\u001b[1;33m.\u001b[0m\u001b[0minstance\u001b[0m \u001b[1;33m=\u001b[0m \u001b[0mself\u001b[0m\u001b[1;33m\u001b[0m\u001b[0m\n\u001b[0;32m      7\u001b[0m \u001b[1;33m\u001b[0m\u001b[0m\n",
      "\u001b[1;31mAssertionError\u001b[0m: "
     ]
    }
   ],
   "source": [
    "if __name__ == '__main__':\n",
    "    bot = ShoppingBot()\n",
    "    bot.start(open('TOKEN').read().strip())"
   ]
  },
  {
   "cell_type": "code",
   "execution_count": null,
   "metadata": {
    "collapsed": true
   },
   "outputs": [],
   "source": []
  }
 ],
 "metadata": {
  "kernelspec": {
   "display_name": "Python 3",
   "language": "python",
   "name": "python3"
  },
  "language_info": {
   "codemirror_mode": {
    "name": "ipython",
    "version": 3
   },
   "file_extension": ".py",
   "mimetype": "text/x-python",
   "name": "python",
   "nbconvert_exporter": "python",
   "pygments_lexer": "ipython3",
   "version": "3.6.3"
  }
 },
 "nbformat": 4,
 "nbformat_minor": 2
}
