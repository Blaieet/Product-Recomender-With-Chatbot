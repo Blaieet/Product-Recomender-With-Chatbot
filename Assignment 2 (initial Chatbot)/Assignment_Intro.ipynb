{
 "cells": [
  {
   "cell_type": "markdown",
   "metadata": {},
   "source": [
    "<img src=\"botfather.png\" style=\"height: 80vh\">"
   ]
  },
  {
   "cell_type": "markdown",
   "metadata": {},
   "source": [
    "Telegram (i moltes altres plataformes) ens ofereixen la possibilitat de crear **bots**, és a dir algorismes que són capaços d'automatizatzar tasques i, en aquest cas, de simular una conversa real amb un objectiu concret.\n",
    "\n",
    "Cada cop més els bots són més utilitzats, vegeu per exemple l'empresa [correYvuela](http://www.correyvuela.com/) que els fa servir per vendre bitllets d'avió de forma ràpida i eficient.\n",
    "\n",
    "En aquesta pràctica, i seguint la temàtica de l'anterior, farem un bot que ens serveixi per tenir la llista de la compra interactiva. El bot recordarà què li hem dit que volem comprar i anirà tatxant aquells elements que ja haguem comprat (quan li diguem, és clar!)"
   ]
  },
  {
   "cell_type": "markdown",
   "metadata": {},
   "source": [
    "# Introducció a Python 3 i AsyncIO\n",
    "\n",
    "Amb Python 3.5 s'introdueix a Python un estil de programació pseudo-paral·lel, on diferents tasques s'executen de forma *simultània*. Vegem un exemple per entendre-ho millor"
   ]
  },
  {
   "cell_type": "code",
   "execution_count": null,
   "metadata": {
    "collapsed": false
   },
   "outputs": [],
   "source": [
    "import time\n",
    "\n",
    "def func1_sync():\n",
    "    for i in range(5):\n",
    "        time.sleep(1)\n",
    "        print('func_1 {}'.format(i))\n",
    "\n",
    "def func2_sync():\n",
    "    for i in range(5):\n",
    "        time.sleep(1)\n",
    "        print('func_2 {}'.format(i))\n",
    "        \n",
    "def main():\n",
    "    func1_sync()\n",
    "    func2_sync()\n",
    "    \n",
    "main()"
   ]
  },
  {
   "cell_type": "markdown",
   "metadata": {},
   "source": [
    "És fàcil de veure, simplement mirant el codi, que s'executarà seqüencialment primer la funció 1 i després la 2. Imagineu que ara, aquestes funcions 1 i 2, són part d'un entorn web i necessiten accedir a una base de dades per mostrar-la, simulat en el codi amb un `time.sleep(1)`... deixaríem tots els usuaris penjats fins que no acabéssim de processar.\n",
    "\n",
    "Existien formes de fer que el procés no bloquegés, però eren poc pràctiques i en ocacions es refiaven de petits *hacks* a les llibreries estàndar.\n",
    "\n",
    "Mireu ara el següent exemple:"
   ]
  },
  {
   "cell_type": "code",
   "execution_count": null,
   "metadata": {
    "collapsed": false
   },
   "outputs": [],
   "source": [
    "import asyncio as aio\n",
    "\n",
    "\n",
    "async def func1_async():\n",
    "    for i in range(5):\n",
    "        await aio.sleep(1)\n",
    "        print('func_1 {}'.format(i))\n",
    "        \n",
    "async def func2_async():\n",
    "    for i in range(5):\n",
    "        await aio.sleep(1)\n",
    "        print('func_2 {}'.format(i))\n",
    "        \n",
    "async def main():\n",
    "    # Posem a la llista de tasques les dues funcions\n",
    "    future1 = aio.ensure_future(func1_async())\n",
    "    future2 = aio.ensure_future(func2_async())\n",
    "    \n",
    "    # Esperem a que totes dues acabin\n",
    "    await aio.wait([future1, future2])\n",
    "    \n",
    "loop = aio.get_event_loop()\n",
    "loop.run_until_complete(main())"
   ]
  },
  {
   "cell_type": "markdown",
   "metadata": {},
   "source": [
    "Ara, tal i com podeu provar, els missatges surten intercalats. Quan una de les tasques `async` entra en un estat de bloqueig (per exemple, consultar una base de dades, llegir un fitxer, etc.), es reemprén l'execució d'alguna altra tasca `async` que no estigui bloquejada.\n",
    "\n",
    "D'aquesta forma, conseguirem poder atendre a diversos usuaris a la vegada de forma *paral·lela* i sense fer-los esperar. És important entendre que realment **no** s'estan fent totes dues tasques a la vegada, sinó que quan una bloqueja es passa a l'altre!"
   ]
  },
  {
   "cell_type": "markdown",
   "metadata": {},
   "source": [
    "**Tingueu en compte que per la pràctica realment no és necessari crear cap nova funció a més de les que us donem ja fetes, i de fet no caldrà ni cridar-les en moltes ocasions.** Tant els exemples anteriors com les explicacions tenen l'objectiu d'introduir-vos les noves funcionalitats de Python 3.5 i donar-vos la oportunitat de fer-les servir, si així ho voleu."
   ]
  },
  {
   "cell_type": "markdown",
   "metadata": {},
   "source": [
    "Per poder fer servir `async` i `await` s'han de seguir algunes normes:\n",
    "\n",
    "* Una funció `def async` es pot cridar de dues formes diferents, segons si la funció d'on es crida és o no `async`:\n",
    "  * `async def` $\\rightarrow$ `async def`: Caldrà posar `await` abans de la crida, per exemple en el codi superior les crides a `func1_async` i `func2_async`\n",
    "  * `def` a `async def`: Caldrà fer-ho at través d'una funció de la llibreria `AsyncIO`, les més comuns són:\n",
    "    * Si volem el retorn de la funció `ensure_future`\n",
    "    * Si no ens interesa el retorn i simplement volem que executi `get_event_loop().create_task`\n",
    "    * Si volem espera bloquejant a que acabi `run_until_complete` \n",
    "    \n",
    "* Les funcions normals de python (`def`) es poden cridar de forma normal des de qualsevol tipus de funció, tant `def` com `async def`."
   ]
  },
  {
   "cell_type": "markdown",
   "metadata": {},
   "source": [
    "# Bot\n",
    "\n",
    "## Abans de començar\n",
    "\n",
    "És imprescindible que, al menys 1 persona de cada parella, tingui Telegram. \n",
    "\n",
    "És igual si és:\n",
    "\n",
    "* Telegram web: https://web.telegram.org\n",
    "* El client per PC/Mac: https://telegram.org/apps\n",
    "* El mòbil\n",
    "\n",
    "Per comoditat d'anar provant, us recomenem el client de PC/Mac\n",
    "\n",
    "## Creant el bot\n",
    "\n",
    "Primer de tot heu d'afegir al bot anomenat **@BotFather**. Ho podeu fer directament des del següent enllaç:\n",
    "\n",
    "https://telegram.me/botfather\n",
    "\n",
    "El procés és força intuitiu i directe, però si us perdeu seguiu les instruccions a: \n",
    "\n",
    "https://core.telegram.org/bots#6-botfather\n",
    "\n",
    "Obtindreu una clau per poder operar un bot. Tota la pàgina és interesant, val la pena llegir-la en un altre moment per informar-se de totes les possibilitats dels bots!\n",
    "\n",
    "Per aquesta pràctica, i per l'autocorrector, assegureu-vos d'escriure la clau dins de l'arxiu `TOKEN` que es troba en aquesta mateixa carpeta."
   ]
  },
  {
   "cell_type": "markdown",
   "metadata": {},
   "source": [
    "## Codi base del bot"
   ]
  },
  {
   "cell_type": "markdown",
   "metadata": {},
   "source": [
    "Durant aquesta pràctica utilitzarem la llibreria **telepot** per ajudar-nos en el procés, d'altra banda seria molt llarg de fer i implicaria treballar a massa baix nivell pel que volem fer en aquesta pràctica.\n",
    "\n",
    "L'objectiu, com ja s'ha dit, és tenir una llista de la compra interactiva, però abans de començar hem d'entendre com funciona la llibreria telepot i el flux d'utilització del bot. Primer de tot, executeu el codi que teniu a continuació i intenteu parlar amb el bot mitjançant el vostre Telegram, observeu que passa!"
   ]
  },
  {
   "cell_type": "code",
   "execution_count": null,
   "metadata": {
    "collapsed": true
   },
   "outputs": [],
   "source": [
    "import asyncio as aio\n",
    "\n",
    "import telepot\n",
    "from telepot.aio.loop import MessageLoop\n",
    "from telepot.aio.delegate import pave_event_space, per_chat_id, \\\n",
    "    create_open, include_callback_query_chat_id\n",
    "\n",
    "\n",
    "class ShoppingBot(object):\n",
    "    \"\"\"\n",
    "    Classe principal del bot, configura els clients i inicia\n",
    "    el bucle per rebre i enviar missatges\n",
    "    \"\"\"\n",
    "    \n",
    "    def __init__(self):\n",
    "        \"\"\"\n",
    "        Constructor de la classe, inicialitza el bot\n",
    "        \"\"\"\n",
    "        self.bot = None\n",
    "        self.loop = aio.get_event_loop()\n",
    "        \n",
    "    def start(self, token):\n",
    "        \"\"\"\n",
    "        Inicia el bucle per rebre i enviar missatges. Bloqueja per\n",
    "        complet fins que no s'acaba d'executar\n",
    "        \n",
    "        :param token: Token del bot per conenctar a l'API de telegram\n",
    "        \"\"\"\n",
    "        self.bot = telepot.aio.DelegatorBot(token, [\n",
    "            include_callback_query_chat_id(\n",
    "                pave_event_space())(\n",
    "                per_chat_id(), create_open, ShoppingUser, timeout=10),\n",
    "            ])\n",
    "        \n",
    "        self.loop.create_task(MessageLoop(self.bot).run_forever())\n",
    "        self.loop.run_forever()"
   ]
  },
  {
   "cell_type": "markdown",
   "metadata": {},
   "source": [
    "Segurament és el primer cop que veieu classes en Python, però com podreu comprovar són molt intuitives. \n",
    "\n",
    "* S'assemblen a les de Java/C++ en que `self` actua com a `this`\n",
    "\n",
    "* Els mètodes es defineixen com si fossin funcions normals de Python. Tenen un primer paràmetre obligatori (i especial), el `self` del punt anterior. \n",
    "\n",
    "* El mètode `__init__` és el constructor, s'invoca quan es crea un nou objecte de la classe\n",
    "\n",
    "* Un objecte es crea de forma directe (`obj = Objecte()`), i per cridar-ne un mètode directament fem `objecte.funcio()`, com en Java, **sense** passar (o ignorant) el pàrametre `self`, que Python gestiona automàticament."
   ]
  },
  {
   "cell_type": "code",
   "execution_count": null,
   "metadata": {
    "collapsed": false
   },
   "outputs": [],
   "source": [
    "class ShoppingUser(telepot.aio.helper.ChatHandler):\n",
    "    \"\"\"\n",
    "    Classe per instanciar cada usuari i gestionar-ne els\n",
    "    missatges.\n",
    "    \"\"\"\n",
    "    \n",
    "    def __init__(self, *args, **kwargs):\n",
    "        \"\"\"\n",
    "        Constructor de la classe, amb l'únic fi de mostrar un missatge\n",
    "        per pantalla indicant que s'ha creat l'usuari\n",
    "        \"\"\"\n",
    "        super(ShoppingUser, self).__init__(*args, **kwargs)\n",
    "        print('Created {}'.format(self.id))\n",
    "       \n",
    "    \n",
    "    async def on_chat_message(self, msg):\n",
    "        \"\"\"\n",
    "        Funció que Telepot cridarà de forma automàtica quan un usuari\n",
    "        enviï un missatge\n",
    "        \n",
    "        :param msg: Objecte que conté, d'entre altres, el missatge que\n",
    "            l'usuari ha enviat\n",
    "        \"\"\"\n",
    "        content_type, chat_type, chat_id = telepot.glance(msg)\n",
    "        if 'text' in msg:\n",
    "            await self.sender.sendMessage(msg['text'])\n",
    "            print('From {}: {}'.format(self.id, msg['text']))\n",
    "            \n",
    "    async def on_close(self, ex):\n",
    "        \"\"\"\n",
    "        Passats 10 segons (o els configurats) d'inactivitat de l'usuari,\n",
    "        aquest s'elimina de la memòria. Abans però, Telepot crida \n",
    "        automàticament aquesta funció per informar-nos i, si cal, poder\n",
    "        fer quelcom\n",
    "        \n",
    "        :param ex: Motiu pel qual es tanca l'usuari, normalment timeout\n",
    "        \"\"\"\n",
    "        print('Closed {}'.format(self.id))"
   ]
  },
  {
   "cell_type": "code",
   "execution_count": null,
   "metadata": {
    "collapsed": false
   },
   "outputs": [],
   "source": [
    "if __name__ == '__main__':\n",
    "    # Es crea un bot i inicia\n",
    "    bot = ShoppingBot()\n",
    "    bot.start(open('TOKEN').read().strip())"
   ]
  },
  {
   "cell_type": "markdown",
   "metadata": {},
   "source": [
    "Podeu parar el funcionament mitjançant el botó `stop` de la barra superior, doncs el mètode `start` bloqueja el funcionament."
   ]
  },
  {
   "cell_type": "markdown",
   "metadata": {},
   "source": [
    "Detalls a tenir en compte i que haurieu d'haver observat!\n",
    "\n",
    "* Quan algú escriu per primera vegada al bot (o després d'haver-se tancat), es crea un nou `ShoppingUser`, podeu comprovar-ho amb el missatge per pantalla. A més, cada usuari té un identificador únic, MAI canvia.\n",
    "\n",
    "* Quan envia un missatge, es crida automàticament la funció `on_chat_message`, i el missatge es troba dins de `msg['text']`.\n",
    "\n",
    "* Al cap de 10 segons d'inactivitat, l'objecte `ShoppingUser` s'elimina per complet. Si torna a enviar un missatge, es crea de nou, però de 0!"
   ]
  },
  {
   "cell_type": "markdown",
   "metadata": {},
   "source": [
    "**Abans de passar al codi que heu de programar, us planteja algun problema aquest funcionament??**"
   ]
  }
 ],
 "metadata": {
  "kernelspec": {
   "display_name": "Python 2",
   "language": "python",
   "name": "python2"
  },
  "language_info": {
   "codemirror_mode": {
    "name": "ipython",
    "version": 2
   },
   "file_extension": ".py",
   "mimetype": "text/x-python",
   "name": "python",
   "nbconvert_exporter": "python",
   "pygments_lexer": "ipython2",
   "version": "2.7.13"
  }
 },
 "nbformat": 4,
 "nbformat_minor": 2
}
