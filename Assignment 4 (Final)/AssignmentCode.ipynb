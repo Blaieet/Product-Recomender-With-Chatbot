{
 "cells": [
  {
   "cell_type": "markdown",
   "metadata": {},
   "source": [
    "# Chatbot + Recomanació\n",
    "\n",
    "L'objectiu d'aquesta pràctica és força directe, volem recomanar a l'usuari noves `aisle_id` on anar a comprar quan ens ho demani.\n",
    "\n",
    "Es dóna tant un chatbot funcional com un recomanador basat en factorització de matrius, però si voleu podeu fer servir les vostres implementacions pròpies del chatbot i del recomanador basat en pagerank.\n",
    "\n",
    "Si feu servir el codi donat, llegiu les consideracions que trobareu més abaix"
   ]
  },
  {
   "cell_type": "code",
   "execution_count": 1,
   "metadata": {
    "collapsed": true
   },
   "outputs": [],
   "source": [
    "import zipfile\n",
    "from os.path import join, dirname\n",
    "import pandas as pd\n",
    "\n",
    "def locate(*path):\n",
    "    base = globals().get('__file__', '.')\n",
    "    return join(dirname(base), *path)\n",
    "\n",
    "def unzip(file):\n",
    "    zip_ref = zipfile.ZipFile(locate(file), 'r')\n",
    "    zip_ref.extractall(locate('data'))\n",
    "    zip_ref.close()\n",
    "\n",
    "unzip('order_products__train.csv.zip')\n",
    "unzip('orders.csv.zip')\n",
    "unzip('products.csv.zip')\n",
    "unzip('aisles.csv.zip')"
   ]
  },
  {
   "cell_type": "code",
   "execution_count": 2,
   "metadata": {
    "collapsed": true
   },
   "outputs": [],
   "source": [
    "df_order_prods = pd.read_csv(locate('data', 'order_products__train.csv'))\n",
    "df_orders = pd.read_csv(locate('data', 'orders.csv'))[['order_id', 'user_id']]\n",
    "df_prods = pd.read_csv(locate('data', 'products.csv'))[['product_id', 'aisle_id']]\n",
    "\n",
    "df_merged = pd.merge(pd.merge(df_order_prods, df_orders, on='order_id'), df_prods, on='product_id')\n",
    "counts = df_merged.groupby(['user_id', 'aisle_id']).size()\n",
    "df_counts = counts.unstack()"
   ]
  },
  {
   "cell_type": "code",
   "execution_count": 3,
   "metadata": {
    "collapsed": true
   },
   "outputs": [],
   "source": [
    "df_aisles = pd.read_csv(locate('data', 'aisles.csv'), index_col='aisle_id')"
   ]
  },
  {
   "cell_type": "markdown",
   "metadata": {},
   "source": [
    "## Pràctica\n",
    "\n",
    "**Punt 1.** L'usuari solament ha de poder afegir productes que es trobin en el dataframe `df_aisles`, és a dir, el nom del producte s'ha de trobar en la columna `aisles` d'aquest dataframe\n",
    "\n",
    "**Punt 2.** Quan l'usuari enviï la comanda `/reco` i solament si es troba afegint productes (podeu cridar `user.is_adding()` per comprovar-ho), li heu de recomanar un nou producte que no tingui ja a la llista. Per fer-ho, els passos que seguirem seran els següents:\n",
    "\n",
    "1. Buscar a la base de dades (`df_counts`) la persona més semblant a l'usuari del bot. Això es pot fer de diverses maneres, per exemple, pots mirar quina persona té una distància més petita respecte l'usuari tenint en compte les compres, amb `np.linalg.norm(compres_persona_db - llista_usuari)`, o agant la que té la correlació de pearson més gran entre les seves compres i la de l'usuari (`scipy.stats.stats.pearsonr` o el mètode `corr` dels dataframes).\n",
    "\n",
    "Està clar, per fer això necessites la llista de productes afegits de l'usuari en funció de `aisle_id` (no el nostre `product_id`) i de la quantitat `qty`, pots obtenir-ho a partir de `user_info(user.id)['products']`.\n",
    "\n",
    "2. Un cop tens aquesta persona, calcula el seu `score` (ie. l'estimació de compra) per totes les `aisle_id` que l'usuari no hagi comprat encara.\n",
    "\n",
    "3. Envia un missatge a l'usuari amb el nom de la `aisle_id` que ha tret millor puntuació en el punt anterior i la puntuació arrodonida a l'enter més proper"
   ]
  },
  {
   "cell_type": "markdown",
   "metadata": {},
   "source": [
    "## Consideracions del recomanador\n",
    "\n",
    "El recomanador es dóna ja entrenat (arxius P.pkl i Q.pkl), però de forma ràpida i poc fiable. Podeu obtenir la recomanació d'un usuari de la base de dades (df_counts) per a un item (aisle_id) donat amb el mètode `estimate(usuari, item)`."
   ]
  },
  {
   "cell_type": "code",
   "execution_count": 6,
   "metadata": {},
   "outputs": [
    {
     "data": {
      "text/plain": [
       "4.9759486763891934"
      ]
     },
     "execution_count": 6,
     "metadata": {},
     "output_type": "execute_result"
    }
   ],
   "source": [
    "from recommender import NMFRecommender\n",
    "\n",
    "reco = NMFRecommender(df_counts, 3, 10)\n",
    "reco.factorize()\n",
    "reco.estimate(1, 2)"
   ]
  },
  {
   "cell_type": "markdown",
   "metadata": {},
   "source": [
    "## Consideracions del chatbot\n",
    "\n",
    "* No teniu accés directe al codi del bot, treballareu a partir de funcions \"callback\", és a dir, quan el bot detecta un event cridarà les vostres funcions. Les funcions, totes elles, tenen un dos paràmetres en comú:\n",
    "    * `bot`: Objecte DelegatorBot de Telepot\n",
    "    * `user`: Objecte ShoppingUser\n",
    "    \n",
    "Les funcions que es cridaran a mode de callback són:\n",
    "\n",
    "* Quan es rep una comanda, és a dir un missatge que comença per /, es cridarà `on_cmd(bot, user, cmd)`. El paràmetre `cmd` conté la comanda enviada per l'usuari\n",
    "* Quan s'afegeix un producte, es crida `on_add(bot, user, product_id, qty)`, on `product_id` indica el nom del producte i `qty` la quantitat comprada. Si aquesta funció retorna True o None, l'item s'afegirà a l'usuari, però si retorna False **no** s'afegirà. Sii esta a aisle_id\n",
    "* Quan es marca un producte com a comprat (si encara no estava comprat), es crida `on_flag(bot, user, product_id)`\n",
    "* Quan s'acaben de comprar tots els productes, i solament 1 cop per interacció, es crida `on_end(bot, user)`\n",
    "\n",
    "**Els productes de l'usuari ja no són una llista de productes, sinó diccionari de productes**:\n",
    "\n",
    "```python\n",
    "{\n",
    "    ...\n",
    "    'products': {\n",
    "        'product_id_1': {\n",
    "            'status': 0/1,\n",
    "            'qty': <int>\n",
    "        },\n",
    "        ...\n",
    "        'product_id_n': {\n",
    "            'status': 0/1,\n",
    "            'qty': <int>\n",
    "        },\n",
    "    }\n",
    "    ...\n",
    "}\n",
    "```"
   ]
  },
  {
   "cell_type": "code",
   "execution_count": 11,
   "metadata": {
    "collapsed": true
   },
   "outputs": [],
   "source": [
    "import numpy as np\n",
    "from operator import itemgetter\n",
    "from sklearn.preprocessing import Normalizer\n",
    "from emoji import emojize\n",
    "\n",
    "  \n",
    "async def on_cmd(bot, user, cmd):\n",
    "    if cmd == '/start':\n",
    "        await bot.sendPhoto(user.id, open('img/hello.jpg', 'rb'))\n",
    "    elif cmd == '/done':\n",
    "        await user.sender.sendMessage('Let\\'s go')\n",
    "    elif cmd == '/reco':\n",
    "        if user.is_adding():\n",
    "            #Com que triga un pel a recomanar el producte, enviem aquest missatge al usuari\n",
    "            await user.sender.sendMessage(\"Espera mentre miro quin producte et resultaria ideal! 🤔\")\n",
    "            \n",
    "            #Vector on afegirem la quantitat dels productes que ha comprat l'usuari en la posicio adequada\n",
    "            vector = np.zeros(df_aisles.size)\n",
    "            \n",
    "            #llista per guardar els productes comprats\n",
    "            productes = []\n",
    "            \n",
    "            for i in user_info(user.id)['products']: #Per tots els productes comprats\n",
    "                productes.append(i) #Els afegim a la llista \n",
    "                #Afegim la quantitat comprada d'aquest producte en la correcte posicio del vector\n",
    "                vector[df_aisles[df_aisles['aisle']==i].index[0]] = user_info(user.id)['products'][i]['qty']\n",
    "            \n",
    "            #Creo un dataframe amb aquest vector. El vull en columnes aixi que el transposo\n",
    "            dfVector = pd.DataFrame({'Vect':vector}).transpose() \n",
    "            \n",
    "            #Ajuntu df_counts amb aquest dataframe. Trec els NaN per la correlacio\n",
    "            df_Junt = pd.concat([df_counts,dfVector]).fillna(0)\n",
    "            \n",
    "            #Normalitzo tot el dataframe. Fit_transform perque no em retorni un array\n",
    "            df_Normalitzat = Normalizer().fit_transform(df_Junt)\n",
    "            \n",
    "            #Calculo la correlacio entre tots els valors del Df\n",
    "            correlacions = pd.DataFrame(df_Normalitzat).corr(method='pearson')\n",
    "        \n",
    "            #Pero a mi nomes m'interessa l'ultima fila\n",
    "            correlacions_temp = correlacions.iloc[-1].fillna(0)\n",
    "            \n",
    "            #Aquesta fila la paso a vector\n",
    "            correlacions_temp = correlacions_temp.values.tolist()\n",
    "            \n",
    "            #Per calcular el maxim, l'hi trec l'1 de la correlacio amb ell mateix. Hi poso un zero\n",
    "            correlacions_temp[len(correlacions_temp)-1] = 0\n",
    "            \n",
    "            #Agafo la posicio del maxim\n",
    "            persona = np.argmax(correlacions_temp)\n",
    "            \n",
    "            #Trobo els index dels items que ha comprat aquesta persona\n",
    "            items_persona = df_counts.loc[persona].loc[df_counts.loc[persona] > 0 ].index\n",
    "        \n",
    "            puntuacions = [] #Llista per guardar les puntuacions\n",
    "            for i in items_persona: #Per cada item de la persona semblant\n",
    "                if df_aisles.loc[i].item() not in productes: #Sino ha estat comprat per el nostre usuari\n",
    "                    score = reco.estimate(persona, i) #Fem la estimació i l'afegim a la llista\n",
    "                    puntuacions.append((i,score))\n",
    "            index_item = max(puntuacions,key=itemgetter(1))[0] #Agafem el maxim d'aquesta llista\n",
    "            \n",
    "            #L'index de l'item amb puntuacio maxima. Hem quedo amb el seu nom amb .item()\n",
    "            item = df_aisles.loc[index_item].item()\n",
    "            await user.sender.sendMessage(\"Et recomano que compris: \"+item+\" 😋\") #L'enviem per missatge\n",
    "            \n",
    "            # Triga uns 5 segons aproximadament en fer la recomanació, creiem que és per el mètode que fem servir per \n",
    "            # calcular les correlacions.\n",
    "        else:\n",
    "            await user.sender.sendMessage(\"Si no estàs afegint no et puc recomanar res!😪\")\n",
    "            \n",
    "async def on_add(bot, user, product_id, qty):\n",
    "    #Mirem si a df_aisles hi ha el seu producte. .Any() retorna True o False\n",
    "    return ((df_aisles['aisle'] == product_id).any())   \n",
    "           \n",
    "async def on_flag(bot, user, product_id):\n",
    "    pass\n",
    "    \n",
    "async def on_end(bot, user):\n",
    "    await bot.sendPhoto(user.id, open('img/done.png', 'rb'))\n",
    "    pass"
   ]
  },
  {
   "cell_type": "code",
   "execution_count": null,
   "metadata": {
    "scrolled": false
   },
   "outputs": [],
   "source": [
    "if __name__ == '__main__':\n",
    "    from botBlaiSergi import ShoppingBot, user_info\n",
    "    \n",
    "    with ShoppingBot() as bot:\n",
    "        # Setup callbacks\n",
    "        bot.add_callback('cmd', on_cmd)\n",
    "        bot.add_callback('add-product', on_add)\n",
    "        bot.add_callback('flag-product', on_flag)\n",
    "        bot.add_callback('end', on_end)\n",
    "        \n",
    "        # Start bot\n",
    "        bot.start(open('TOKEN').read().strip())"
   ]
  },
  {
   "cell_type": "code",
   "execution_count": null,
   "metadata": {
    "collapsed": true
   },
   "outputs": [],
   "source": []
  }
 ],
 "metadata": {
  "kernelspec": {
   "display_name": "Python 3",
   "language": "python",
   "name": "python3"
  },
  "language_info": {
   "codemirror_mode": {
    "name": "ipython",
    "version": 3
   },
   "file_extension": ".py",
   "mimetype": "text/x-python",
   "name": "python",
   "nbconvert_exporter": "python",
   "pygments_lexer": "ipython3",
   "version": "3.6.3"
  }
 },
 "nbformat": 4,
 "nbformat_minor": 2
}
